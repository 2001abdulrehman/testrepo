{
 "cells": [
  {
   "cell_type": "markdown",
   "id": "5b6e2788-032c-4350-9682-4a3df0c58680",
   "metadata": {},
   "source": [
    "DataScience Tools and Ecosystem"
   ]
  },
  {
   "cell_type": "markdown",
   "id": "6c179c34-dbf5-44a0-8c5a-3738119828f9",
   "metadata": {},
   "source": [
    "In this notebook, Data Science Tools and Ecosystem are summarized"
   ]
  },
  {
   "cell_type": "markdown",
   "id": "110fc98b-d438-4b24-a923-3cf75886c841",
   "metadata": {},
   "source": [
    "Some of the popular languages that Data Scientists use are"
   ]
  },
  {
   "cell_type": "markdown",
   "id": "210d144d-07ef-4bde-92c7-2d232e0cdc2d",
   "metadata": {},
   "source": [
    "Data Science Tools"
   ]
  },
  {
   "cell_type": "code",
   "execution_count": 1,
   "id": "ba69c849-ca10-401d-a6fc-12f88099be35",
   "metadata": {},
   "outputs": [
    {
     "data": {
      "text/plain": [
       "11"
      ]
     },
     "execution_count": 1,
     "metadata": {},
     "output_type": "execute_result"
    }
   ],
   "source": [
    "5+6"
   ]
  },
  {
   "cell_type": "code",
   "execution_count": 2,
   "id": "cb4ed7fb-0340-4c20-962f-a22742d2120b",
   "metadata": {},
   "outputs": [
    {
     "data": {
      "text/plain": [
       "7"
      ]
     },
     "execution_count": 2,
     "metadata": {},
     "output_type": "execute_result"
    }
   ],
   "source": [
    "9-2"
   ]
  },
  {
   "cell_type": "code",
   "execution_count": 3,
   "id": "61d012fe-4e46-4ff1-9556-435249b18e52",
   "metadata": {},
   "outputs": [
    {
     "data": {
      "text/plain": [
       "72"
      ]
     },
     "execution_count": 3,
     "metadata": {},
     "output_type": "execute_result"
    }
   ],
   "source": [
    "9*8"
   ]
  },
  {
   "cell_type": "code",
   "execution_count": 4,
   "id": "2710e731-ab8d-40ef-8974-805979907b2c",
   "metadata": {},
   "outputs": [
    {
     "data": {
      "text/plain": [
       "10.0"
      ]
     },
     "execution_count": 4,
     "metadata": {},
     "output_type": "execute_result"
    }
   ],
   "source": [
    "90/9"
   ]
  },
  {
   "cell_type": "code",
   "execution_count": 5,
   "id": "f26878db-12b8-4125-9e5a-270732cee052",
   "metadata": {},
   "outputs": [
    {
     "data": {
      "text/plain": [
       "199.08999999999997"
      ]
     },
     "execution_count": 5,
     "metadata": {},
     "output_type": "execute_result"
    }
   ],
   "source": [
    "99.99+99.1"
   ]
  },
  {
   "cell_type": "code",
   "execution_count": 6,
   "id": "69c7de28-17c0-4618-83ed-30c1e8ef0f13",
   "metadata": {},
   "outputs": [
    {
     "data": {
      "text/plain": [
       "6767.200000000001"
      ]
     },
     "execution_count": 6,
     "metadata": {},
     "output_type": "execute_result"
    }
   ],
   "source": [
    "76.9*88"
   ]
  },
  {
   "cell_type": "code",
   "execution_count": 7,
   "id": "559afa60-9618-4e56-a7f7-483b9147db59",
   "metadata": {},
   "outputs": [
    {
     "data": {
      "text/plain": [
       "17"
      ]
     },
     "execution_count": 7,
     "metadata": {},
     "output_type": "execute_result"
    }
   ],
   "source": [
    "(3*4)+5"
   ]
  },
  {
   "cell_type": "markdown",
   "id": "cfe39c9f-e887-433c-8924-b702466386ab",
   "metadata": {},
   "source": [
    "#This a simple arithmetic expression to mutiply then add integers"
   ]
  },
  {
   "cell_type": "markdown",
   "id": "68639355-2a80-4063-a348-f035fa704bbd",
   "metadata": {},
   "source": [
    "convert 200 min into hour"
   ]
  },
  {
   "cell_type": "code",
   "execution_count": null,
   "id": "d1944f58-9d7c-418b-9d17-96e5dcfdb6b9",
   "metadata": {},
   "outputs": [],
   "source": [
    "min = 200\n",
    "hour = 200/60\n",
    "print (\"hour)\n"
   ]
  }
 ],
 "metadata": {
  "kernelspec": {
   "display_name": "Python",
   "language": "python",
   "name": "conda-env-python-py"
  },
  "language_info": {
   "codemirror_mode": {
    "name": "ipython",
    "version": 3
   },
   "file_extension": ".py",
   "mimetype": "text/x-python",
   "name": "python",
   "nbconvert_exporter": "python",
   "pygments_lexer": "ipython3",
   "version": "3.7.12"
  }
 },
 "nbformat": 4,
 "nbformat_minor": 5
}
